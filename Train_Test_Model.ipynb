{
  "cells": [
    {
      "metadata": {
        "_uuid": "8f2839f25d086af736a60e9eeb907d3b93b6e0e5",
        "_cell_guid": "b1076dfc-b9ad-4769-8c92-a6c4dae69d19",
        "trusted": true
      },
      "cell_type": "code",
      "source": "# This Python 3 environment comes with many helpful analytics libraries installed\n# It is defined by the kaggle/python docker image: https://github.com/kaggle/docker-python\n# For example, here's several helpful packages to load in \n\nimport numpy as np # linear algebra\nimport pandas as pd # data processing, CSV file I/O (e.g. pd.read_csv)\nimport numpy as np # linear algebra\nimport pandas as pd # data processing, CSV file I/O (e.g. pd.read_csv)\n\nimport matplotlib.pyplot as plt\n%matplotlib inline\n\nfrom keras.models import Sequential\nfrom keras.layers import Dense , Dropout , Lambda, Flatten\nfrom keras.optimizers import Adam ,RMSprop\nfrom sklearn.model_selection import train_test_split\nfrom keras import  backend as K\nfrom keras.preprocessing.image import ImageDataGenerator\n\n# Input data files are available in the \"../input/\" directory.\n# For example, running this (by clicking run or pressing Shift+Enter) will list the files in the input directory\n\nimport os\nprint(os.listdir(\"../input\"))\n\n# Any results you write to the current directory are saved as output.",
      "execution_count": 1,
      "outputs": [
        {
          "output_type": "stream",
          "text": "/opt/conda/lib/python3.6/site-packages/h5py/__init__.py:36: FutureWarning: Conversion of the second argument of issubdtype from `float` to `np.floating` is deprecated. In future, it will be treated as `np.float64 == np.dtype(float).type`.\n  from ._conv import register_converters as _register_converters\nUsing TensorFlow backend.\n",
          "name": "stderr"
        },
        {
          "output_type": "stream",
          "text": "['train.csv', 'sample_submission.csv', 'test.csv']\n",
          "name": "stdout"
        }
      ]
    },
    {
      "metadata": {
        "trusted": true,
        "_uuid": "b7501bec075509900cc91a6c3f28271c8c49d287"
      },
      "cell_type": "code",
      "source": "!ls",
      "execution_count": 2,
      "outputs": [
        {
          "output_type": "stream",
          "text": "__notebook_source__.ipynb\r\n",
          "name": "stdout"
        }
      ]
    },
    {
      "metadata": {
        "trusted": true,
        "_uuid": "0c5188d13ae38330ab376dd823c84d4d638a2f20"
      },
      "cell_type": "code",
      "source": "df_train = pd.read_csv('../input/train.csv')\nprint (df_train.shape)\ndf_train.head()",
      "execution_count": 3,
      "outputs": [
        {
          "output_type": "stream",
          "text": "(42000, 785)\n",
          "name": "stdout"
        },
        {
          "output_type": "execute_result",
          "execution_count": 3,
          "data": {
            "text/plain": "   label  pixel0  pixel1  pixel2  pixel3  pixel4  pixel5  pixel6  pixel7  \\\n0      1       0       0       0       0       0       0       0       0   \n1      0       0       0       0       0       0       0       0       0   \n2      1       0       0       0       0       0       0       0       0   \n3      4       0       0       0       0       0       0       0       0   \n4      0       0       0       0       0       0       0       0       0   \n\n   pixel8    ...     pixel774  pixel775  pixel776  pixel777  pixel778  \\\n0       0    ...            0         0         0         0         0   \n1       0    ...            0         0         0         0         0   \n2       0    ...            0         0         0         0         0   \n3       0    ...            0         0         0         0         0   \n4       0    ...            0         0         0         0         0   \n\n   pixel779  pixel780  pixel781  pixel782  pixel783  \n0         0         0         0         0         0  \n1         0         0         0         0         0  \n2         0         0         0         0         0  \n3         0         0         0         0         0  \n4         0         0         0         0         0  \n\n[5 rows x 785 columns]",
            "text/html": "<div>\n<style scoped>\n    .dataframe tbody tr th:only-of-type {\n        vertical-align: middle;\n    }\n\n    .dataframe tbody tr th {\n        vertical-align: top;\n    }\n\n    .dataframe thead th {\n        text-align: right;\n    }\n</style>\n<table border=\"1\" class=\"dataframe\">\n  <thead>\n    <tr style=\"text-align: right;\">\n      <th></th>\n      <th>label</th>\n      <th>pixel0</th>\n      <th>pixel1</th>\n      <th>pixel2</th>\n      <th>pixel3</th>\n      <th>pixel4</th>\n      <th>pixel5</th>\n      <th>pixel6</th>\n      <th>pixel7</th>\n      <th>pixel8</th>\n      <th>...</th>\n      <th>pixel774</th>\n      <th>pixel775</th>\n      <th>pixel776</th>\n      <th>pixel777</th>\n      <th>pixel778</th>\n      <th>pixel779</th>\n      <th>pixel780</th>\n      <th>pixel781</th>\n      <th>pixel782</th>\n      <th>pixel783</th>\n    </tr>\n  </thead>\n  <tbody>\n    <tr>\n      <th>0</th>\n      <td>1</td>\n      <td>0</td>\n      <td>0</td>\n      <td>0</td>\n      <td>0</td>\n      <td>0</td>\n      <td>0</td>\n      <td>0</td>\n      <td>0</td>\n      <td>0</td>\n      <td>...</td>\n      <td>0</td>\n      <td>0</td>\n      <td>0</td>\n      <td>0</td>\n      <td>0</td>\n      <td>0</td>\n      <td>0</td>\n      <td>0</td>\n      <td>0</td>\n      <td>0</td>\n    </tr>\n    <tr>\n      <th>1</th>\n      <td>0</td>\n      <td>0</td>\n      <td>0</td>\n      <td>0</td>\n      <td>0</td>\n      <td>0</td>\n      <td>0</td>\n      <td>0</td>\n      <td>0</td>\n      <td>0</td>\n      <td>...</td>\n      <td>0</td>\n      <td>0</td>\n      <td>0</td>\n      <td>0</td>\n      <td>0</td>\n      <td>0</td>\n      <td>0</td>\n      <td>0</td>\n      <td>0</td>\n      <td>0</td>\n    </tr>\n    <tr>\n      <th>2</th>\n      <td>1</td>\n      <td>0</td>\n      <td>0</td>\n      <td>0</td>\n      <td>0</td>\n      <td>0</td>\n      <td>0</td>\n      <td>0</td>\n      <td>0</td>\n      <td>0</td>\n      <td>...</td>\n      <td>0</td>\n      <td>0</td>\n      <td>0</td>\n      <td>0</td>\n      <td>0</td>\n      <td>0</td>\n      <td>0</td>\n      <td>0</td>\n      <td>0</td>\n      <td>0</td>\n    </tr>\n    <tr>\n      <th>3</th>\n      <td>4</td>\n      <td>0</td>\n      <td>0</td>\n      <td>0</td>\n      <td>0</td>\n      <td>0</td>\n      <td>0</td>\n      <td>0</td>\n      <td>0</td>\n      <td>0</td>\n      <td>...</td>\n      <td>0</td>\n      <td>0</td>\n      <td>0</td>\n      <td>0</td>\n      <td>0</td>\n      <td>0</td>\n      <td>0</td>\n      <td>0</td>\n      <td>0</td>\n      <td>0</td>\n    </tr>\n    <tr>\n      <th>4</th>\n      <td>0</td>\n      <td>0</td>\n      <td>0</td>\n      <td>0</td>\n      <td>0</td>\n      <td>0</td>\n      <td>0</td>\n      <td>0</td>\n      <td>0</td>\n      <td>0</td>\n      <td>...</td>\n      <td>0</td>\n      <td>0</td>\n      <td>0</td>\n      <td>0</td>\n      <td>0</td>\n      <td>0</td>\n      <td>0</td>\n      <td>0</td>\n      <td>0</td>\n      <td>0</td>\n    </tr>\n  </tbody>\n</table>\n<p>5 rows × 785 columns</p>\n</div>"
          },
          "metadata": {}
        }
      ]
    },
    {
      "metadata": {
        "trusted": true,
        "_uuid": "06b13a29bf60e74448c550cf966bf85d5179d6ae"
      },
      "cell_type": "code",
      "source": "df_test = pd.read_csv('../input/test.csv')\nprint (df_test.shape)\ndf_test.head()",
      "execution_count": 4,
      "outputs": [
        {
          "output_type": "stream",
          "text": "(28000, 784)\n",
          "name": "stdout"
        },
        {
          "output_type": "execute_result",
          "execution_count": 4,
          "data": {
            "text/plain": "   pixel0  pixel1  pixel2  pixel3  pixel4  pixel5  pixel6  pixel7  pixel8  \\\n0       0       0       0       0       0       0       0       0       0   \n1       0       0       0       0       0       0       0       0       0   \n2       0       0       0       0       0       0       0       0       0   \n3       0       0       0       0       0       0       0       0       0   \n4       0       0       0       0       0       0       0       0       0   \n\n   pixel9    ...     pixel774  pixel775  pixel776  pixel777  pixel778  \\\n0       0    ...            0         0         0         0         0   \n1       0    ...            0         0         0         0         0   \n2       0    ...            0         0         0         0         0   \n3       0    ...            0         0         0         0         0   \n4       0    ...            0         0         0         0         0   \n\n   pixel779  pixel780  pixel781  pixel782  pixel783  \n0         0         0         0         0         0  \n1         0         0         0         0         0  \n2         0         0         0         0         0  \n3         0         0         0         0         0  \n4         0         0         0         0         0  \n\n[5 rows x 784 columns]",
            "text/html": "<div>\n<style scoped>\n    .dataframe tbody tr th:only-of-type {\n        vertical-align: middle;\n    }\n\n    .dataframe tbody tr th {\n        vertical-align: top;\n    }\n\n    .dataframe thead th {\n        text-align: right;\n    }\n</style>\n<table border=\"1\" class=\"dataframe\">\n  <thead>\n    <tr style=\"text-align: right;\">\n      <th></th>\n      <th>pixel0</th>\n      <th>pixel1</th>\n      <th>pixel2</th>\n      <th>pixel3</th>\n      <th>pixel4</th>\n      <th>pixel5</th>\n      <th>pixel6</th>\n      <th>pixel7</th>\n      <th>pixel8</th>\n      <th>pixel9</th>\n      <th>...</th>\n      <th>pixel774</th>\n      <th>pixel775</th>\n      <th>pixel776</th>\n      <th>pixel777</th>\n      <th>pixel778</th>\n      <th>pixel779</th>\n      <th>pixel780</th>\n      <th>pixel781</th>\n      <th>pixel782</th>\n      <th>pixel783</th>\n    </tr>\n  </thead>\n  <tbody>\n    <tr>\n      <th>0</th>\n      <td>0</td>\n      <td>0</td>\n      <td>0</td>\n      <td>0</td>\n      <td>0</td>\n      <td>0</td>\n      <td>0</td>\n      <td>0</td>\n      <td>0</td>\n      <td>0</td>\n      <td>...</td>\n      <td>0</td>\n      <td>0</td>\n      <td>0</td>\n      <td>0</td>\n      <td>0</td>\n      <td>0</td>\n      <td>0</td>\n      <td>0</td>\n      <td>0</td>\n      <td>0</td>\n    </tr>\n    <tr>\n      <th>1</th>\n      <td>0</td>\n      <td>0</td>\n      <td>0</td>\n      <td>0</td>\n      <td>0</td>\n      <td>0</td>\n      <td>0</td>\n      <td>0</td>\n      <td>0</td>\n      <td>0</td>\n      <td>...</td>\n      <td>0</td>\n      <td>0</td>\n      <td>0</td>\n      <td>0</td>\n      <td>0</td>\n      <td>0</td>\n      <td>0</td>\n      <td>0</td>\n      <td>0</td>\n      <td>0</td>\n    </tr>\n    <tr>\n      <th>2</th>\n      <td>0</td>\n      <td>0</td>\n      <td>0</td>\n      <td>0</td>\n      <td>0</td>\n      <td>0</td>\n      <td>0</td>\n      <td>0</td>\n      <td>0</td>\n      <td>0</td>\n      <td>...</td>\n      <td>0</td>\n      <td>0</td>\n      <td>0</td>\n      <td>0</td>\n      <td>0</td>\n      <td>0</td>\n      <td>0</td>\n      <td>0</td>\n      <td>0</td>\n      <td>0</td>\n    </tr>\n    <tr>\n      <th>3</th>\n      <td>0</td>\n      <td>0</td>\n      <td>0</td>\n      <td>0</td>\n      <td>0</td>\n      <td>0</td>\n      <td>0</td>\n      <td>0</td>\n      <td>0</td>\n      <td>0</td>\n      <td>...</td>\n      <td>0</td>\n      <td>0</td>\n      <td>0</td>\n      <td>0</td>\n      <td>0</td>\n      <td>0</td>\n      <td>0</td>\n      <td>0</td>\n      <td>0</td>\n      <td>0</td>\n    </tr>\n    <tr>\n      <th>4</th>\n      <td>0</td>\n      <td>0</td>\n      <td>0</td>\n      <td>0</td>\n      <td>0</td>\n      <td>0</td>\n      <td>0</td>\n      <td>0</td>\n      <td>0</td>\n      <td>0</td>\n      <td>...</td>\n      <td>0</td>\n      <td>0</td>\n      <td>0</td>\n      <td>0</td>\n      <td>0</td>\n      <td>0</td>\n      <td>0</td>\n      <td>0</td>\n      <td>0</td>\n      <td>0</td>\n    </tr>\n  </tbody>\n</table>\n<p>5 rows × 784 columns</p>\n</div>"
          },
          "metadata": {}
        }
      ]
    },
    {
      "metadata": {
        "trusted": true,
        "_uuid": "ecc9dd355b79bfaeb72ed010245f333ea19340b3",
        "collapsed": true
      },
      "cell_type": "code",
      "source": "X_train = df_train.iloc[:,1:].values.astype('float32')\ny_train = df_train.iloc[:,0].values.astype('int32')\nX_test = df_test.iloc[:,:].values.astype('float32')",
      "execution_count": 5,
      "outputs": []
    },
    {
      "metadata": {
        "trusted": true,
        "_uuid": "3686b88e5c9aa21f1dd5406d75482f7dce42a080"
      },
      "cell_type": "code",
      "source": "print (X_train.shape)\nprint (X_test.shape)\nprint (y_train.shape)",
      "execution_count": 6,
      "outputs": [
        {
          "output_type": "stream",
          "text": "(42000, 784)\n(28000, 784)\n(42000,)\n",
          "name": "stdout"
        }
      ]
    },
    {
      "metadata": {
        "trusted": true,
        "_uuid": "8a699f1a2abf79b40decff4d5ad33a20367c74aa"
      },
      "cell_type": "code",
      "source": "#expand 1 more dimention as 1 for colour channel gray\nX_train = X_train.reshape(X_train.shape[0], 28, 28,1)\nX_train.shape",
      "execution_count": 7,
      "outputs": [
        {
          "output_type": "execute_result",
          "execution_count": 7,
          "data": {
            "text/plain": "(42000, 28, 28, 1)"
          },
          "metadata": {}
        }
      ]
    },
    {
      "metadata": {
        "trusted": true,
        "_uuid": "e537f86c96a319ea53916e0c72febc3092a6da33"
      },
      "cell_type": "code",
      "source": "X_test = X_test.reshape(X_test.shape[0], 28, 28,1)\nX_test.shape",
      "execution_count": 8,
      "outputs": [
        {
          "output_type": "execute_result",
          "execution_count": 8,
          "data": {
            "text/plain": "(28000, 28, 28, 1)"
          },
          "metadata": {}
        }
      ]
    },
    {
      "metadata": {
        "_uuid": "808211dfdf0951015425bb00b86dc281b77287c6"
      },
      "cell_type": "markdown",
      "source": "## Feature Standardization\n"
    },
    {
      "metadata": {
        "trusted": true,
        "_uuid": "4578176d280f06d9a77bdb86d10de5d0f3dd993c"
      },
      "cell_type": "code",
      "source": "mean_px = X_train.mean().astype(np.float32)\nstd_px = X_train.std().astype(np.float32)\nprint (mean_px)\nprint (std_px)",
      "execution_count": 9,
      "outputs": [
        {
          "output_type": "stream",
          "text": "33.408936\n78.67759\n",
          "name": "stdout"
        }
      ]
    },
    {
      "metadata": {
        "trusted": true,
        "collapsed": true,
        "_uuid": "f3e273ad6453e45871d49aa31267b2104aeb016d"
      },
      "cell_type": "code",
      "source": "def standardize(x):\n    return (x-mean_px)/std_px",
      "execution_count": 10,
      "outputs": []
    },
    {
      "metadata": {
        "trusted": true,
        "_uuid": "ae17bb94e1670a7cdfdf5aac223f5ffb7174d562"
      },
      "cell_type": "code",
      "source": "from keras.utils import np_utils\ny_train = np_utils.to_categorical(y_train)\nprint (y_train.shape[1])",
      "execution_count": 11,
      "outputs": [
        {
          "output_type": "stream",
          "text": "10\n",
          "name": "stdout"
        }
      ]
    },
    {
      "metadata": {
        "trusted": true,
        "_uuid": "9650cf1c4d13b8e6790629979b3843e33f02e75a"
      },
      "cell_type": "code",
      "source": "print (y_train.shape)",
      "execution_count": 12,
      "outputs": [
        {
          "output_type": "stream",
          "text": "(42000, 10)\n",
          "name": "stdout"
        }
      ]
    },
    {
      "metadata": {
        "_uuid": "cc8eb4ae8239649fd26456cc974947e5ab89b7da"
      },
      "cell_type": "markdown",
      "source": "## Designing Neural Network Architecture\n"
    },
    {
      "metadata": {
        "trusted": true,
        "collapsed": true,
        "_uuid": "895ea8245180cbd562093534b88fc843ce2e893c"
      },
      "cell_type": "code",
      "source": "##Fix seed for producuing again\nseed = 10\nnp.random.seed(seed)",
      "execution_count": 13,
      "outputs": []
    },
    {
      "metadata": {
        "_uuid": "53f9fd7b09c3d4ffd9e5f52c6dacc2e77b7b62cf"
      },
      "cell_type": "markdown",
      "source": "### Linear Model"
    },
    {
      "metadata": {
        "trusted": true,
        "collapsed": true,
        "_uuid": "e01086ef5f398229ab84f067e7193a03d1b97be4"
      },
      "cell_type": "code",
      "source": "from keras.models import  Sequential\nfrom keras.layers.core import  Lambda , Dense, Flatten, Dropout\nfrom keras.callbacks import EarlyStopping\nfrom keras.layers import BatchNormalization, Convolution2D , MaxPooling2D",
      "execution_count": 14,
      "outputs": []
    },
    {
      "metadata": {
        "trusted": true,
        "_uuid": "6f507d5a080b26214ce1aaae6b5c376c3f4b5e14"
      },
      "cell_type": "code",
      "source": "model = Sequential()\nmodel.add(Lambda(standardize, input_shape=(28,28,1)))\nmodel.add(Flatten())\nmodel.add(Dense(10, activation='softmax'))\nprint(\"input shape \",model.input_shape)\nprint(\"output shape \",model.output_shape)",
      "execution_count": 15,
      "outputs": [
        {
          "output_type": "stream",
          "text": "input shape  (None, 28, 28, 1)\noutput shape  (None, 10)\n",
          "name": "stdout"
        }
      ]
    },
    {
      "metadata": {
        "trusted": true,
        "collapsed": true,
        "_uuid": "f1ef520c34166cdab3f057e35b823ce8c7f53274"
      },
      "cell_type": "code",
      "source": "from keras.optimizers import RMSprop\nmodel.compile(optimizer=RMSprop(lr=0.01),loss='categorical_crossentropy',metrics=['accuracy'])",
      "execution_count": 16,
      "outputs": []
    },
    {
      "metadata": {
        "trusted": true,
        "collapsed": true,
        "_uuid": "007fa8d4e093dbcd677505eddc517bed32713109"
      },
      "cell_type": "code",
      "source": "from keras.preprocessing import image\ngen = image.ImageDataGenerator()",
      "execution_count": 17,
      "outputs": []
    },
    {
      "metadata": {
        "_uuid": "aa30c9e589233465e356e2381898e85e1a6b6309"
      },
      "cell_type": "markdown",
      "source": "## Cross Validation"
    },
    {
      "metadata": {
        "trusted": true,
        "collapsed": true,
        "_uuid": "2ddfa8a46400d01b07f9e521bec2ab947ce10b80"
      },
      "cell_type": "code",
      "source": "from sklearn.model_selection import train_test_split\nX = X_train\ny = y_train\nprint \nX_train, X_val, y_train, y_val = train_test_split(X_train,y_train,test_size=0.1,random_state=42)\nbatches = gen.flow(X_train, y_train, batch_size=64)\nbatches_val = gen.flow(X_val, y_val, batch_size=64)",
      "execution_count": 18,
      "outputs": []
    },
    {
      "metadata": {
        "trusted": true,
        "_uuid": "c831633dada08f8e254de2ce645516502f04d24f"
      },
      "cell_type": "code",
      "source": "print (y_val.shape)",
      "execution_count": 19,
      "outputs": [
        {
          "output_type": "stream",
          "text": "(4200, 10)\n",
          "name": "stdout"
        }
      ]
    },
    {
      "metadata": {
        "trusted": true,
        "_uuid": "80aee2231c158e6b71681b48b9dcde253782d1d1"
      },
      "cell_type": "code",
      "source": "print (X.shape)\nprint (y.shape)",
      "execution_count": 20,
      "outputs": [
        {
          "output_type": "stream",
          "text": "(42000, 28, 28, 1)\n(42000, 10)\n",
          "name": "stdout"
        }
      ]
    },
    {
      "metadata": {
        "trusted": true,
        "_uuid": "97082b7033203037965ccaa33046adb328f45a02"
      },
      "cell_type": "code",
      "source": "history=model.fit_generator(generator=batches, steps_per_epoch=batches.n, epochs=3, validation_data=batches_val, validation_steps=batches_val.n)",
      "execution_count": 21,
      "outputs": [
        {
          "output_type": "stream",
          "text": "Epoch 1/3\n37800/37800 [==============================] - 193s 5ms/step - loss: 0.5651 - acc: 0.9282 - val_loss: 0.9830 - val_acc: 0.9052\nEpoch 2/3\n37800/37800 [==============================] - 190s 5ms/step - loss: 0.5142 - acc: 0.9456 - val_loss: 1.1391 - val_acc: 0.9064\nEpoch 3/3\n37800/37800 [==============================] - 189s 5ms/step - loss: 0.4866 - acc: 0.9522 - val_loss: 1.1619 - val_acc: 0.9050\n",
          "name": "stdout"
        }
      ]
    },
    {
      "metadata": {
        "trusted": true,
        "_uuid": "5f3f6b81f8af3d0eb580517fba17ac801d4ce03a"
      },
      "cell_type": "code",
      "source": "print (history.history.keys())",
      "execution_count": 22,
      "outputs": [
        {
          "output_type": "stream",
          "text": "dict_keys(['val_loss', 'val_acc', 'loss', 'acc'])\n",
          "name": "stdout"
        }
      ]
    },
    {
      "metadata": {
        "trusted": true,
        "_uuid": "cd2930825c126be4752d31a69f0d5d02487ae32e"
      },
      "cell_type": "code",
      "source": "plt.plot(range(1,4),history.history['acc'],'g')\nplt.plot(range(1,4),history.history['val_acc'],'b')\nplt.xlabel('Epochs')\nplt.ylabel('Accuracy')\nplt.title('Accuracy - Train vs Test')\nplt.legend(['train','test'])\nplt.show()",
      "execution_count": 23,
      "outputs": [
        {
          "output_type": "display_data",
          "data": {
            "text/plain": "<matplotlib.figure.Figure at 0x7f00fc19f208>",
            "image/png": "[encoded data removed]"
          },
          "metadata": {}
        }
      ]
    },
    {
      "metadata": {
        "trusted": true,
        "collapsed": true,
        "_uuid": "548a1d3e112542f5ced2b2426e10dbbf2c4d3ffd"
      },
      "cell_type": "code",
      "source": "def get_fc_model():\n    model = Sequential()\n    model.add(Lambda(standardize, input_shape=(28,28,1)))\n    model.add(Flatten())\n    model.add(Dense(512,activation='relu'))\n    model.add(Dense(10,activation='softmax'))\n    model.compile(loss='categorical_crossentropy',optimizer=RMSprop(lr=0.01), metrics=['accuracy'])\n    return model",
      "execution_count": 24,
      "outputs": []
    },
    {
      "metadata": {
        "trusted": true,
        "_uuid": "ebcdcd9f14851e6c0aea67ad04c17d500b6f7fa3"
      },
      "cell_type": "code",
      "source": "model_fc = get_fc_model()\nhistory_fc = model_fc.fit_generator(generator=batches, steps_per_epoch=batches.n, epochs=1, validation_data=batches_val, validation_steps=batches_val.n)",
      "execution_count": 25,
      "outputs": [
        {
          "output_type": "stream",
          "text": "Epoch 1/1\n37800/37800 [==============================] - 219s 6ms/step - loss: 0.2897 - acc: 0.9773 - val_loss: 0.4254 - val_acc: 0.9719\n",
          "name": "stdout"
        }
      ]
    },
    {
      "metadata": {
        "trusted": true,
        "_uuid": "2636e65a159963bfc912ee7a2a6ad75a5caf5748"
      },
      "cell_type": "code",
      "source": "##Plot accuracy and loss curves\nplt.plot(history.history['acc'],'r')\nplt.plot(history.history['val_acc'],'b')\nplt.xlabel('Epochs')\nplt.ylabel('Accuracy')\nplt.title('Accuracy - Train vs Test')\nplt.legend(['train','test'])\nplt.show()",
      "execution_count": 26,
      "outputs": [
        {
          "output_type": "display_data",
          "data": {
            "text/plain": "<matplotlib.figure.Figure at 0x7f00fc1abbe0>",
            "image/png": "[encoded data removed]"
          },
          "metadata": {}
        }
      ]
    },
    {
      "metadata": {
        "trusted": true,
        "_uuid": "1a0b8c8489ba79db12a9e7ee37c8d2e1aeb14674"
      },
      "cell_type": "code",
      "source": "##Plot accuracy and loss curves\nplt.plot(history.history['loss'],'r')\nplt.plot(history.history['val_loss'],'b')\nplt.xlabel('Epochs')\nplt.ylabel('loss')\nplt.title('Loss - Train vs Test')\nplt.legend(['train','test'])\nplt.show()",
      "execution_count": 27,
      "outputs": [
        {
          "output_type": "display_data",
          "data": {
            "text/plain": "<matplotlib.figure.Figure at 0x7f00fc127eb8>",
            "image/png": "[encoded data removed]"
          },
          "metadata": {}
        }
      ]
    },
    {
      "metadata": {
        "trusted": true,
        "_uuid": "cfee26f2070b3de9859a24dd002e915016851e73",
        "collapsed": true
      },
      "cell_type": "code",
      "source": "def cnn_model():\n    model = Sequential()\n    model.add(Lambda(standardize, input_shape=(28,28,1)))\n    model.add(Convolution2D(32,(3,3),activation='relu'))\n    model.add(MaxPooling2D())\n    model.add(Convolution2D(64,(3,3),activation='relu'))\n    model.add(MaxPooling2D())\n    model.add(Flatten())\n    model.add(Dense(512,activation='relu'))\n    model.add(Dense(10,activation='softmax'))\n    model.compile(loss='categorical_crossentropy',optimizer=Adam(lr=0.01), metrics=['accuracy'])\n    return model",
      "execution_count": 28,
      "outputs": []
    },
    {
      "metadata": {
        "trusted": true,
        "_uuid": "884b725ccd365ba116dc1cf4428c3cb49e18666f"
      },
      "cell_type": "code",
      "source": "model_cnn = cnn_model()\nhistory_cnn = model_cnn.fit_generator(generator=batches, steps_per_epoch=batches.n, epochs=1, validation_data=batches_val, validation_steps=batches_val.n)",
      "execution_count": 29,
      "outputs": [
        {
          "output_type": "stream",
          "text": "Epoch 1/1\n37800/37800 [==============================] - 439s 12ms/step - loss: 0.7842 - acc: 0.9464 - val_loss: 1.7660 - val_acc: 0.8904\n",
          "name": "stdout"
        }
      ]
    },
    {
      "metadata": {
        "trusted": true,
        "_uuid": "c0f2aad2cdf620ddc0c6e7fcc30db1de84ab408a"
      },
      "cell_type": "code",
      "source": "##Plot accuracy and loss curves\nplt.plot(history.history['acc'],'r')\nplt.plot(history.history['val_acc'],'b')\nplt.xlabel('Epochs')\nplt.ylabel('Accuracy')\nplt.title('Accuracy - Train vs Test')\nplt.legend(['train','test'])\nplt.show()",
      "execution_count": 30,
      "outputs": [
        {
          "output_type": "display_data",
          "data": {
            "text/plain": "<matplotlib.figure.Figure at 0x7f01084b16a0>",
            "image/png": "[encoded data removed]"
          },
          "metadata": {}
        }
      ]
    },
    {
      "metadata": {
        "trusted": true,
        "_uuid": "3639a450ed7bf0ab31db4ad097055e7151172d72"
      },
      "cell_type": "code",
      "source": "##Plot accuracy and loss curves\nplt.plot(history.history['loss'],'r')\nplt.plot(history.history['val_loss'],'b')\nplt.xlabel('Epochs')\nplt.ylabel('loss')\nplt.title('Loss - Train vs Test')\nplt.legend(['train','test'])\nplt.show()",
      "execution_count": 31,
      "outputs": [
        {
          "output_type": "display_data",
          "data": {
            "text/plain": "<matplotlib.figure.Figure at 0x7f00fc19c0f0>",
            "image/png": "[encoded data removed]"
          },
          "metadata": {}
        }
      ]
    },
    {
      "metadata": {
        "_uuid": "58afd12f71b244b40e3a2e5d82a22cafb0680324"
      },
      "cell_type": "markdown",
      "source": "1. ## Data Agumentation"
    },
    {
      "metadata": {
        "trusted": true,
        "collapsed": true,
        "_uuid": "9eca9f38b38716ccf5dd2b43666795ef23392133"
      },
      "cell_type": "code",
      "source": "gen =ImageDataGenerator(rotation_range=8, width_shift_range=0.08, shear_range=0.3,\n                               height_shift_range=0.08, zoom_range=0.08)\nbatches = gen.flow(X_train, y_train, batch_size=64)\nval_batches = gen.flow(X_val, y_val, batch_size=64)",
      "execution_count": 32,
      "outputs": []
    },
    {
      "metadata": {
        "trusted": true,
        "_uuid": "329997820669b87d9832e66277e9b97b2966b7b4",
        "scrolled": false
      },
      "cell_type": "code",
      "source": "model_cnn.optimizer.lr=0.001\nhistory=model_cnn.fit_generator(generator=batches, steps_per_epoch=batches.n, epochs=1, \n                    validation_data=val_batches, validation_steps=val_batches.n)",
      "execution_count": 33,
      "outputs": [
        {
          "output_type": "stream",
          "text": "Epoch 1/1\n37800/37800 [==============================] - 908s 24ms/step - loss: 3.9664 - acc: 0.7539 - val_loss: 4.3394 - val_acc: 0.7308\n",
          "name": "stdout"
        }
      ]
    },
    {
      "metadata": {
        "_uuid": "35f3a157dae783605d51983701119fe06554dfba"
      },
      "cell_type": "markdown",
      "source": "This is Giving better accuracy. Maybe due to generalisation"
    },
    {
      "metadata": {
        "_uuid": "386b802f5dcc20605e8c7c80529afdd951031789"
      },
      "cell_type": "markdown",
      "source": " ## Batch Normalisation with Data agumentation and deeper model"
    },
    {
      "metadata": {
        "trusted": true,
        "collapsed": true,
        "_uuid": "4e75e086d1d9e08b548baf0c1720f5695a84a759"
      },
      "cell_type": "code",
      "source": "from keras.layers import BatchNormalization",
      "execution_count": 34,
      "outputs": []
    },
    {
      "metadata": {
        "trusted": true,
        "collapsed": true,
        "_uuid": "1858c8230fc35de973ec1059b46dde5d88b282f7"
      },
      "cell_type": "code",
      "source": "def get_bn_model():\n    model = Sequential()\n    model.add(Lambda(standardize, input_shape=(28,28,1)))\n    model.add(Convolution2D(32,(3,3),activation='relu'))\n    model.add(BatchNormalization(axis=1))\n    model.add(Convolution2D(32,(3,3),activation='relu'))\n    model.add(MaxPooling2D())\n    model.add(BatchNormalization(axis=1))\n    model.add(Convolution2D(64,(3,3),activation='relu'))\n    model.add(BatchNormalization(axis=1))\n    model.add(Convolution2D(64,(3,3),activation='relu'))\n    model.add(MaxPooling2D())\n    model.add(Flatten())\n    model.add(BatchNormalization(axis=1))\n    model.add(Dense(512,activation='relu'))\n    model.add(Dense(10,activation='softmax'))\n    model.compile(loss='categorical_crossentropy',optimizer=Adam(lr=0.01), metrics=['accuracy'])\n    return model\n    ",
      "execution_count": 35,
      "outputs": []
    },
    {
      "metadata": {
        "trusted": true,
        "_uuid": "4d3c106678b2b9404818017b32a6b56f3e51776a"
      },
      "cell_type": "code",
      "source": "model_bn = get_bn_model()\nhistory_bn = model_bn.fit_generator(generator=batches, steps_per_epoch=batches.n, epochs=1, \n                    validation_data=val_batches, validation_steps=val_batches.n)",
      "execution_count": 36,
      "outputs": [
        {
          "output_type": "stream",
          "text": "Epoch 1/1\n37800/37800 [==============================] - 1229s 33ms/step - loss: 0.1136 - acc: 0.9783 - val_loss: 0.1127 - val_acc: 0.9749\n",
          "name": "stdout"
        }
      ]
    },
    {
      "metadata": {
        "_uuid": "7cb7f3ca9c0e8aa0e0f68b927650de05b5617369"
      },
      "cell_type": "markdown",
      "source": "#### Awesome accuracy....Lets train the whole data on the same model for final submissions"
    },
    {
      "metadata": {
        "trusted": true,
        "_uuid": "e46b1d5b63565d39de8eb30d7ceb73e005c3782b"
      },
      "cell_type": "code",
      "source": "gen = image.ImageDataGenerator()\nbatches = gen.flow(X,y, batch_size=64)\nhistory_final = model_bn.fit_generator(generator=batches, steps_per_epoch=batches.n, epochs=1)",
      "execution_count": 37,
      "outputs": [
        {
          "output_type": "stream",
          "text": "Epoch 1/1\n42000/42000 [==============================] - 895s 21ms/step - loss: 0.1450 - acc: 0.9813\n",
          "name": "stdout"
        }
      ]
    },
    {
      "metadata": {
        "trusted": true,
        "collapsed": true,
        "_uuid": "6fa9e2268943fd818a2b885bc05dab2a50a8257b"
      },
      "cell_type": "code",
      "source": "predictions = model_bn.predict_classes(X_test, verbose=0)\n\nsubmissions=pd.DataFrame({\"ImageId\": list(range(1,len(predictions)+1)),\n                         \"Label\": predictions})\nsubmissions.to_csv(\"result_rishav.csv\", index=False, header=True)",
      "execution_count": 38,
      "outputs": []
    },
    {
      "metadata": {
        "trusted": true,
        "_uuid": "22431fc53cad28a41d9f31ee56e7e79a27d97991"
      },
      "cell_type": "code",
      "source": "print(os.listdir(\"../input\"))",
      "execution_count": 39,
      "outputs": [
        {
          "output_type": "stream",
          "text": "['train.csv', 'sample_submission.csv', 'test.csv']\n",
          "name": "stdout"
        }
      ]
    },
    {
      "metadata": {
        "trusted": true,
        "_uuid": "563a50773b6be4d03747e1c9306632895699b4d8"
      },
      "cell_type": "code",
      "source": "print(os.listdir(\".\"))",
      "execution_count": 40,
      "outputs": [
        {
          "output_type": "stream",
          "text": "['__notebook_source__.ipynb', '.ipynb_checkpoints', 'result_rishav.csv']\n",
          "name": "stdout"
        }
      ]
    },
    {
      "metadata": {
        "trusted": true,
        "collapsed": true,
        "_uuid": "406ae3afd83efb9597356a0a32566665658cafac"
      },
      "cell_type": "code",
      "source": "",
      "execution_count": null,
      "outputs": []
    },
    {
      "metadata": {
        "trusted": true,
        "collapsed": true,
        "_uuid": "7272bdcd7a8a88bb121b13870c457fc70075c577"
      },
      "cell_type": "code",
      "source": "",
      "execution_count": null,
      "outputs": []
    }
  ],
  "metadata": {
    "kernelspec": {
      "display_name": "Python 3",
      "language": "python",
      "name": "python3"
    },
    "language_info": {
      "name": "python",
      "version": "3.6.4",
      "mimetype": "text/x-python",
      "codemirror_mode": {
        "name": "ipython",
        "version": 3
      },
      "pygments_lexer": "ipython3",
      "nbconvert_exporter": "python",
      "file_extension": ".py"
    }
  },
  "nbformat": 4,
  "nbformat_minor": 1
}